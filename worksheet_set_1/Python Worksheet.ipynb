{
 "cells": [
  {
   "cell_type": "code",
   "execution_count": null,
   "id": "1f250ba7",
   "metadata": {},
   "outputs": [],
   "source": [
    "##Write a python program to find the factorial of a number.\n",
    "num = int(input(\"Enter a number: \"))    \n",
    "factorial = 1    \n",
    "if num < 0:    \n",
    "   print(\" Factorial does not exist for negative numbers\")    \n",
    "elif num == 0:    \n",
    "   print(\"The factorial of 0 is 1\")    \n",
    "else:    \n",
    "   for i in range(1,num + 1):    \n",
    "       factorial = factorial*i    \n",
    "   print(\"The factorial of\",num,\"is\",factorial)"
   ]
  },
  {
   "cell_type": "code",
   "execution_count": null,
   "id": "6ffb4c15",
   "metadata": {},
   "outputs": [],
   "source": [
    "##Write a python program to find whether a number is prime or composite.\n",
    "def PrimeChecker(a):    \n",
    "    if a > 1:    \n",
    "        for j in range(2, int(a/2) + 1):    \n",
    "            if (a % j) == 0:  \n",
    "                print(a, \"is a composite number\")  \n",
    "                break  \n",
    "        else:  \n",
    "            print(a, \"is a prime number\")    \n",
    "    else:  \n",
    "        print(a, \"is a composite number\")    \n",
    "a = int(input(\"Enter an input number:\"))    \n",
    "PrimeChecker(a) "
   ]
  },
  {
   "cell_type": "code",
   "execution_count": null,
   "id": "dba78372",
   "metadata": {},
   "outputs": [],
   "source": [
    "## Write a python program to check whether a given string is palindrome or not.\n",
    "my_str = 'aIbohPhoBiA'\n",
    "\n",
    "my_str = my_str.casefold()\n",
    "\n",
    "rev_str = reversed(my_str)\n",
    "\n",
    "if list(my_str) == list(rev_str):\n",
    "   print(\"The string is a palindrome.\")\n",
    "else:\n",
    "   print(\"The string is not a palindrome.\")"
   ]
  },
  {
   "cell_type": "code",
   "execution_count": null,
   "id": "53d4b783",
   "metadata": {},
   "outputs": [],
   "source": [
    "##Write a Python program to get the third side of right-angled triangle from two given sides.\n",
    "def pythagoras(opposite_side,adjacent_side,hypotenuse):\n",
    "        if opposite_side == str(\"x\"):\n",
    "            return (\"Opposite = \" + str(((hypotenuse**2) - (adjacent_side**2))**0.5))\n",
    "        elif adjacent_side == str(\"x\"):\n",
    "            return (\"Adjacent = \" + str(((hypotenuse**2) - (opposite_side**2))**0.5))\n",
    "        elif hypotenuse == str(\"x\"):\n",
    "            return (\"Hypotenuse = \" + str(((opposite_side**2) + (adjacent_side**2))**0.5))\n",
    "        else:\n",
    "            return \"The Third Side!\"\n",
    "    \n",
    "print(pythagoras(3,4,'x'))\n",
    "print(pythagoras(3,'x',5))\n",
    "print(pythagoras('x',4,5))\n",
    "print(pythagoras(3,4,5))"
   ]
  },
  {
   "cell_type": "code",
   "execution_count": null,
   "id": "74852246",
   "metadata": {},
   "outputs": [],
   "source": [
    "##Write a python program to print the frequency of each of the characters present in a given string.\n",
    "\n",
    "test_str = \"Indiaismycountry\"\n",
    "  \n",
    "all_freq = {}\n",
    "  \n",
    "for i in test_str:\n",
    "    if i in all_freq:\n",
    "        all_freq[i] += 1\n",
    "    else:\n",
    "        all_freq[i] = 1\n",
    "\n",
    "print (\"Count of all characters in Indiaismycountry is :\\n \"\n",
    "                                        +  str(all_freq))"
   ]
  },
  {
   "cell_type": "code",
   "execution_count": null,
   "id": "17849e45",
   "metadata": {},
   "outputs": [],
   "source": []
  }
 ],
 "metadata": {
  "kernelspec": {
   "display_name": "Python 3",
   "language": "python",
   "name": "python3"
  },
  "language_info": {
   "codemirror_mode": {
    "name": "ipython",
    "version": 3
   },
   "file_extension": ".py",
   "mimetype": "text/x-python",
   "name": "python",
   "nbconvert_exporter": "python",
   "pygments_lexer": "ipython3",
   "version": "3.8.8"
  }
 },
 "nbformat": 4,
 "nbformat_minor": 5
}
